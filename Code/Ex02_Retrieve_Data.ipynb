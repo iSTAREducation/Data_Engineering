{
 "cells": [
  {
   "cell_type": "markdown",
   "metadata": {},
   "source": [
    "### Tutorial 2: Retrieving Data\n",
    "This tutorial will teach you how to retrieve data. You will learn how to:\n",
    "\n",
    "\n",
    "#### Objectives\n",
    "- Perform basic `SELECT` queries\n",
    "- Filter data using the `WHERE` clause\n",
    "- Retrieve specific columns\n",
    "- Sort and limit results\n",
    "- Use various operators to refine queries\n",
    "---\n"
   ]
  },
  {
   "cell_type": "code",
   "execution_count": 1,
   "metadata": {},
   "outputs": [],
   "source": [
    "import sqlite3\n",
    "import pandas as pd"
   ]
  },
  {
   "cell_type": "markdown",
   "metadata": {},
   "source": [
    "In this tutorial, I am using `pandas` to read an SQLite database. The syntax of queries remains the same as with other methods. Here's how you can proceed:\n",
    "\n",
    "#### Install Necessary Libraries\n",
    "Ensure you have the required libraries installed. Use the following commands to install them if needed:\n",
    "```bash\n",
    "pip install pandas sqlalchemy"
   ]
  },
  {
   "cell_type": "markdown",
   "metadata": {},
   "source": [
    "#### Retrieve Data, Filter Query with WHERE, Aggregate Data with GROUP BY and ORDER BY\n",
    "- **Q.1**: Count the number of `participants`.  \n",
    "- **Q.2**: Retrieve the `ID`, `City`, and `State_Region` of all applicants who are currently in Myanmar.\n",
    "- **Q.3**: Identify all the distinct values in the `Selected` column.\n",
    "- **Q.4**: Retrieve the `ID` of participants who are substitute (`Selected = 'Waiting List'`) and are located in Myanmar.\n",
    "- **Q.5**: Retrieve the `ID` of participants who does not provide the `Gender` information. \n",
    "- **Q.6**: Group the participants by State_Region and count the number of participants in each state. Sort the results in ascending order based on the count.\n",
    "- **Q.7**: Group the applicants by gender and `count` the number of applicants in each group. Sort the results in descending order based on the `count`.\n",
    "- **Q.8**: Retrieve the `ID` of participants who are gen `z`. The year of birth (BOD) is between 1997 and 2000.\n",
    "- **Q.9**: Calculate the `age` of each participant based on their year of birth and include the result in the output. \n",
    "- **Q.10**:Compute statistical values (such as the mean, minimum, maximum, and standard deviation) of `age`.    "
   ]
  },
  {
   "cell_type": "code",
   "execution_count": 11,
   "metadata": {},
   "outputs": [
    {
     "data": {
      "text/html": [
       "<div>\n",
       "<style scoped>\n",
       "    .dataframe tbody tr th:only-of-type {\n",
       "        vertical-align: middle;\n",
       "    }\n",
       "\n",
       "    .dataframe tbody tr th {\n",
       "        vertical-align: top;\n",
       "    }\n",
       "\n",
       "    .dataframe thead th {\n",
       "        text-align: right;\n",
       "    }\n",
       "</style>\n",
       "<table border=\"1\" class=\"dataframe\">\n",
       "  <thead>\n",
       "    <tr style=\"text-align: right;\">\n",
       "      <th></th>\n",
       "      <th>COUNT(*)</th>\n",
       "    </tr>\n",
       "  </thead>\n",
       "  <tbody>\n",
       "    <tr>\n",
       "      <th>0</th>\n",
       "      <td>100</td>\n",
       "    </tr>\n",
       "  </tbody>\n",
       "</table>\n",
       "</div>"
      ],
      "text/plain": [
       "   COUNT(*)\n",
       "0       100"
      ]
     },
     "execution_count": 11,
     "metadata": {},
     "output_type": "execute_result"
    }
   ],
   "source": [
    "db_path = '../Projects/database/mmdt.db3'\n",
    "query = \"SELECT COUNT(*) FROM participants\"\n",
    "\n",
    "df = pd.read_sql_query(query, f\"sqlite:///{db_path}\")\n",
    "\n",
    "df"
   ]
  },
  {
   "cell_type": "code",
   "execution_count": 12,
   "metadata": {},
   "outputs": [
    {
     "data": {
      "text/plain": [
       "Index(['ID', 'Time', 'Selected', 'BOD', 'City', 'State_Region', 'Country',\n",
       "       'Date_Leave_Country', 'Gender', 'Current_Situation', 'Type_of_Internet',\n",
       "       'Device_used', 'School_Name', 'Academic_career', 'Pre_Knowledge_Data',\n",
       "       'Course_Wish_Join', 'Dedicate_Learning_Time',\n",
       "       'Personal_Professional_Goals', 'Reason_Right_Person',\n",
       "       'Personal_Professional_Challenges', 'Others'],\n",
       "      dtype='object')"
      ]
     },
     "execution_count": 12,
     "metadata": {},
     "output_type": "execute_result"
    }
   ],
   "source": [
    "query = \"SELECT * FROM participants\"\n",
    "\n",
    "df = pd.read_sql_query(query, f\"sqlite:///{db_path}\")\n",
    "\n",
    "df.columns"
   ]
  },
  {
   "cell_type": "code",
   "execution_count": 13,
   "metadata": {},
   "outputs": [
    {
     "data": {
      "text/html": [
       "<div>\n",
       "<style scoped>\n",
       "    .dataframe tbody tr th:only-of-type {\n",
       "        vertical-align: middle;\n",
       "    }\n",
       "\n",
       "    .dataframe tbody tr th {\n",
       "        vertical-align: top;\n",
       "    }\n",
       "\n",
       "    .dataframe thead th {\n",
       "        text-align: right;\n",
       "    }\n",
       "</style>\n",
       "<table border=\"1\" class=\"dataframe\">\n",
       "  <thead>\n",
       "    <tr style=\"text-align: right;\">\n",
       "      <th></th>\n",
       "      <th>ID</th>\n",
       "      <th>City</th>\n",
       "      <th>State_Region</th>\n",
       "    </tr>\n",
       "  </thead>\n",
       "  <tbody>\n",
       "    <tr>\n",
       "      <th>0</th>\n",
       "      <td>mmdt2024.001</td>\n",
       "      <td>Mandalay</td>\n",
       "      <td>Mandalay</td>\n",
       "    </tr>\n",
       "    <tr>\n",
       "      <th>1</th>\n",
       "      <td>mmdt2024.002</td>\n",
       "      <td>Yangon</td>\n",
       "      <td>Yangon</td>\n",
       "    </tr>\n",
       "    <tr>\n",
       "      <th>2</th>\n",
       "      <td>mmdt2024.003</td>\n",
       "      <td>Taungoo</td>\n",
       "      <td>Bago</td>\n",
       "    </tr>\n",
       "    <tr>\n",
       "      <th>3</th>\n",
       "      <td>mmdt2024.005</td>\n",
       "      <td>Yangon</td>\n",
       "      <td>Yangon</td>\n",
       "    </tr>\n",
       "    <tr>\n",
       "      <th>4</th>\n",
       "      <td>mmdt2024.007</td>\n",
       "      <td>Mandalay</td>\n",
       "      <td>Mandalay</td>\n",
       "    </tr>\n",
       "    <tr>\n",
       "      <th>...</th>\n",
       "      <td>...</td>\n",
       "      <td>...</td>\n",
       "      <td>...</td>\n",
       "    </tr>\n",
       "    <tr>\n",
       "      <th>70</th>\n",
       "      <td>mmdt2024.094</td>\n",
       "      <td>Pyay</td>\n",
       "      <td>Bago</td>\n",
       "    </tr>\n",
       "    <tr>\n",
       "      <th>71</th>\n",
       "      <td>mmdt2024.095</td>\n",
       "      <td>Myanmar</td>\n",
       "      <td>Mandalay</td>\n",
       "    </tr>\n",
       "    <tr>\n",
       "      <th>72</th>\n",
       "      <td>mmdt2024.096</td>\n",
       "      <td>Pyin Oo Lwin</td>\n",
       "      <td>Yangon</td>\n",
       "    </tr>\n",
       "    <tr>\n",
       "      <th>73</th>\n",
       "      <td>mmdt2024.098</td>\n",
       "      <td>Yangon</td>\n",
       "      <td>Yangon</td>\n",
       "    </tr>\n",
       "    <tr>\n",
       "      <th>74</th>\n",
       "      <td>mmdt2024.100</td>\n",
       "      <td>Taungoo</td>\n",
       "      <td>Yangon</td>\n",
       "    </tr>\n",
       "  </tbody>\n",
       "</table>\n",
       "<p>75 rows × 3 columns</p>\n",
       "</div>"
      ],
      "text/plain": [
       "              ID          City State_Region\n",
       "0   mmdt2024.001      Mandalay     Mandalay\n",
       "1   mmdt2024.002        Yangon       Yangon\n",
       "2   mmdt2024.003       Taungoo         Bago\n",
       "3   mmdt2024.005        Yangon       Yangon\n",
       "4   mmdt2024.007     Mandalay      Mandalay\n",
       "..           ...           ...          ...\n",
       "70  mmdt2024.094          Pyay         Bago\n",
       "71  mmdt2024.095       Myanmar     Mandalay\n",
       "72  mmdt2024.096  Pyin Oo Lwin       Yangon\n",
       "73  mmdt2024.098        Yangon       Yangon\n",
       "74  mmdt2024.100       Taungoo       Yangon\n",
       "\n",
       "[75 rows x 3 columns]"
      ]
     },
     "execution_count": 13,
     "metadata": {},
     "output_type": "execute_result"
    }
   ],
   "source": [
    "query = \"\"\"\n",
    "        SELECT ID, City, State_Region \n",
    "        FROM participants \n",
    "        WHERE Country = 'Myanmar';\n",
    "        \"\"\"\n",
    "\n",
    "df = pd.read_sql_query(query, f\"sqlite:///{db_path}\")\n",
    "\n",
    "df"
   ]
  },
  {
   "cell_type": "code",
   "execution_count": 15,
   "metadata": {},
   "outputs": [
    {
     "data": {
      "text/html": [
       "<div>\n",
       "<style scoped>\n",
       "    .dataframe tbody tr th:only-of-type {\n",
       "        vertical-align: middle;\n",
       "    }\n",
       "\n",
       "    .dataframe tbody tr th {\n",
       "        vertical-align: top;\n",
       "    }\n",
       "\n",
       "    .dataframe thead th {\n",
       "        text-align: right;\n",
       "    }\n",
       "</style>\n",
       "<table border=\"1\" class=\"dataframe\">\n",
       "  <thead>\n",
       "    <tr style=\"text-align: right;\">\n",
       "      <th></th>\n",
       "      <th>Selected</th>\n",
       "    </tr>\n",
       "  </thead>\n",
       "  <tbody>\n",
       "    <tr>\n",
       "      <th>0</th>\n",
       "      <td>Yes</td>\n",
       "    </tr>\n",
       "    <tr>\n",
       "      <th>1</th>\n",
       "      <td>waiting list</td>\n",
       "    </tr>\n",
       "    <tr>\n",
       "      <th>2</th>\n",
       "      <td>None</td>\n",
       "    </tr>\n",
       "  </tbody>\n",
       "</table>\n",
       "</div>"
      ],
      "text/plain": [
       "        Selected\n",
       "0            Yes\n",
       "1  waiting list \n",
       "2           None"
      ]
     },
     "execution_count": 15,
     "metadata": {},
     "output_type": "execute_result"
    }
   ],
   "source": [
    "query = \"\"\"\n",
    "        SELECT DISTINCT Selected\n",
    "        FROM participants;\n",
    "        \"\"\"\n",
    "\n",
    "df = pd.read_sql_query(query, f\"sqlite:///{db_path}\")\n",
    "\n",
    "df"
   ]
  }
 ],
 "metadata": {
  "anaconda-cloud": {},
  "kernelspec": {
   "display_name": ".venv",
   "language": "python",
   "name": "python3"
  },
  "language_info": {
   "codemirror_mode": {
    "name": "ipython",
    "version": 3
   },
   "file_extension": ".py",
   "mimetype": "text/x-python",
   "name": "python",
   "nbconvert_exporter": "python",
   "pygments_lexer": "ipython3",
   "version": "3.12.2"
  }
 },
 "nbformat": 4,
 "nbformat_minor": 2
}
