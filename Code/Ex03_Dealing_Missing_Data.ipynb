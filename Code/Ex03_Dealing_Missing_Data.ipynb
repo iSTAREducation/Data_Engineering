{
 "cells": [
  {
   "cell_type": "markdown",
   "metadata": {},
   "source": [
    "#### Tutorial 03-Dealing with NULL Values\n",
    "\n",
    "In databases, NULL values represent missing or undefined data. When working with datasets, you often need to handle NULL values by updating them, either by replacing them with specific values or calculating the missing data based on available information.\n",
    "\n",
    "**NOTE**: NULL is not the same as an empty string or zero. It signifies the absence of a value.\n",
    "\n",
    "**Approaches for Handling NULL Values**\n",
    "There are ways you might handle missing values depending on the use case:\n",
    "- **Update Values**: If the data source is contactable, you can update `NULL` values with new or corrected information.\n",
    "- **Data Imputation**: If you need to replace missing data based on the overall dataset (such as using the average or median values), you can calculate those first and then apply them.\n",
    "- **Leaving NULLs**: Sometimes it's best to leave NULL values in place and handle them in the application layer.\n",
    "\n",
    "---\n",
    "**Identifying `NULL` Values**\n",
    "To check for `NULL` values in SQL, you can use the IS `NULL` condition in your queries. This condition helps you find rows where a column contains `NULL` instead of a valid value.\n",
    "\n",
    "**Example 1**: Checking for NULL Values\n",
    "To identify rows where a column has a NULL value in the participants table.\n",
    "\n",
    "---\n",
    "**UPDATE: Updating NULL Values**\n",
    "You may want to update `NULL` values with a specific value. The `UPDATE` statement is used to modify existing records in a table, including updating NULL values.\n",
    "\n",
    "**Example 2**: Update `NULL` values of two participants from Bhutan using new information. \n",
    "\n",
    "---\n",
    "**COALESCE: Replacing NULL with a Default Value**\n",
    "\n",
    "The COALESCE() function allows you to replace NULL values with a default value, making it useful when you want to ensure that NULL values are substituted with something more meaningful or practical in your results.\n",
    "\n",
    "**Example 3**: Replace NULL Country with 'Myanmar'"
   ]
  },
  {
   "cell_type": "code",
   "execution_count": null,
   "metadata": {},
   "outputs": [],
   "source": [
    "import sqlite3\n",
    "import pandas as pd\n",
    "\n",
    "db_path = '../Projects/database/mmdt.db3'\n",
    "\n",
    "# Update this code to find the participants where the value of the country is NULL.\n",
    "\n",
    "query = \"\"\"SELECT * from participants \n",
    "            WHERE BOD is NULL;\n",
    "        \"\"\"\n",
    "\n",
    "df = pd.read_sql_query(query, f\"sqlite:///{db_path}\")\n",
    "df"
   ]
  },
  {
   "cell_type": "code",
   "execution_count": null,
   "metadata": {},
   "outputs": [],
   "source": [
    "update_query = \"\"\"\n",
    "                UPDATE participants \n",
    "                SET Country = \"Bhutan\" \n",
    "                WHERE COUNTRY is NULL;\n",
    "            \"\"\"\n",
    "\n",
    "conn = sqlite3.connect(db_path)\n",
    "cursor = conn.cursor()\n",
    "cursor.execute(update_query)\n",
    "conn.commit()\n",
    "conn.close()\n",
    "\n",
    "# extract the information of the last 20 participants (ID 80 to 100) \n",
    "query = \"\"\"SELECT \n",
    "            \n",
    "        \"\"\"\n",
    "\n",
    "df = pd.read_sql_query(query, f\"sqlite:///{db_path}\")\n",
    "df"
   ]
  },
  {
   "cell_type": "code",
   "execution_count": null,
   "metadata": {},
   "outputs": [],
   "source": [
    "# Update the query below to select ID, BOD, and country of the participants. Replace the null value in BOD is 2000.\n",
    "# Limit your result to the last 20 participants\n",
    "\n",
    "query = \"\"\"SELECT ID\n",
    "        FROM participants;\n",
    "        \"\"\"\n",
    "\n",
    "df = pd.read_sql_query(query, f\"sqlite:///{db_path}\")\n",
    "df"
   ]
  }
 ],
 "metadata": {
  "anaconda-cloud": {},
  "kernelspec": {
   "display_name": ".venv",
   "language": "python",
   "name": "python3"
  },
  "language_info": {
   "codemirror_mode": {
    "name": "ipython",
    "version": 3
   },
   "file_extension": ".py",
   "mimetype": "text/x-python",
   "name": "python",
   "nbconvert_exporter": "python",
   "pygments_lexer": "ipython3",
   "version": "3.12.2"
  }
 },
 "nbformat": 4,
 "nbformat_minor": 2
}
