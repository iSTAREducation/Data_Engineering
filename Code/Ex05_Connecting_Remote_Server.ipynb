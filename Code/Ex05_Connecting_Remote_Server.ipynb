{
 "cells": [
  {
   "cell_type": "markdown",
   "metadata": {},
   "source": [
    "### Tutorial 5: Extracting and Exploring Data in Microsoft SQL Server\n",
    " \n",
    "This tutorial will guide you on how to explore and extract data from a Microsoft SQL Server database using Python and SQL queries.\n",
    "\n",
    "#### **Objectives**\n",
    "- Connect to a Microsoft SQL Server database using Python.\n",
    "- Retrieve and explore the database schema.\n",
    "- Perform basic `SELECT` queries.\n",
    "- Retrieve specific columns and filter data using the `WHERE` clause.\n",
    "- Understand how to sort and limit results.\n",
    "\n",
    "---\n",
    "\n",
    "#### **Reference**\n",
    "[Refer to Microsoft-Tutorial](https://learn.microsoft.com/en-us/sql/relational-databases/lesson-2-connecting-from-another-computer?view=sql-server-ver16#protocols)\n",
    "\n",
    "---\n",
    "#### **Pre-requisites**\n",
    "1. Python installed with the `pyodbc` library.\n",
    "2. Access to a Microsoft SQL Server database.\n",
    "\n",
    "---\n",
    "### SQL Exercises for WideWorldImporters\n",
    "\n",
    "#### **Exercise 1: List Relevant Tables**\n",
    "🔹 **Task:**  \n",
    "- Write a query to **list all tables** from the `Sales` and `Warehouse` schemas only.  \n",
    "- Identify the schema and table names that contain useful data.  \n",
    "---\n",
    "\n",
    "#### **Exercise 2: List Columns of a Table**\n",
    "🔹 **Task:**  \n",
    "- Write a query to list all columns in the `Sales.Orders` table.  \n",
    "---\n",
    "\n",
    "#### **Exercise 3: Retrieve Specific Columns**\n",
    "🔹 **Task:**  \n",
    "- Get the `OrderID`, `OrderDate`, and `CustomerID` in 2013.  \n",
    "---\n",
    "\n",
    "#### **Final Note**\n",
    "Always close the connection when you are done:\n",
    "\n",
    "```python\n",
    "conn.close()\n",
    "print(\"Connection closed.\")\n",
    "```\n",
    "---\n"
   ]
  },
  {
   "cell_type": "code",
   "execution_count": 1,
   "metadata": {},
   "outputs": [
    {
     "name": "stdout",
     "output_type": "stream",
     "text": [
      "Error: ('08001', '[08001] [Microsoft][ODBC Driver 18 for SQL Server]Named Pipes Provider: Could not open a connection to SQL Server [53].  (53) (SQLDriverConnect); [08001] [Microsoft][ODBC Driver 18 for SQL Server]Login timeout expired (0); [08001] [Microsoft][ODBC Driver 18 for SQL Server]A network-related or instance-specific error has occurred while establishing a connection to add the server name. Server is not found or not accessible. Check if instance name is correct and if SQL Server is configured to allow remote connections. For more information see SQL Server Books Online. (53)')\n"
     ]
    }
   ],
   "source": [
    "import pyodbc\n",
    "\n",
    "server = 'add the server name' \n",
    "database = 'database name'\n",
    "username = 'your name'  \n",
    "password = 'your password'  \n",
    "driver = '{ODBC Driver 18 for SQL Server}'  # Ensure the driver matches your installation\n",
    "\n",
    "try:\n",
    "    # Add TrustServerCertificate and ENCRYPT options to the connection string\n",
    "    conn = pyodbc.connect(\n",
    "        f'DRIVER={driver};SERVER={server};DATABASE={database};UID={username};PWD={password};ENCRYPT=yes;TrustServerCertificate=yes'\n",
    "    )\n",
    "    print(\"Connection successful!\")\n",
    "except Exception as e:\n",
    "    print(f\"Error: {e}\")\n"
   ]
  }
 ],
 "metadata": {
  "kernelspec": {
   "display_name": ".venv",
   "language": "python",
   "name": "python3"
  },
  "language_info": {
   "codemirror_mode": {
    "name": "ipython",
    "version": 3
   },
   "file_extension": ".py",
   "mimetype": "text/x-python",
   "name": "python",
   "nbconvert_exporter": "python",
   "pygments_lexer": "ipython3",
   "version": "3.12.2"
  }
 },
 "nbformat": 4,
 "nbformat_minor": 2
}
