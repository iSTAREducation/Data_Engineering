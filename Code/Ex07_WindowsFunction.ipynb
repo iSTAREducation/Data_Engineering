{
 "cells": [
  {
   "cell_type": "markdown",
   "metadata": {},
   "source": [
    "### **Tutorial 07: Advanced Window Functions in PostgreSQL**\n",
    "\n",
    "Window functions in PostgreSQL allow calculations across a set of table rows related to the current row without collapsing the result set. They are useful for ranking, running totals, moving averages, and more.\n",
    "\n",
    "#### **1. Understanding Window Functions**\n",
    "A window function operates over a subset of rows (a \"window\") defined by the `OVER()` clause. Unlike aggregate functions, window functions do not group rows into a single result.\n",
    "\n",
    "#### **2. Common Window Functions**\n",
    "##### **2.1 Ranking Functions**\n",
    "- `RANK()`: Assigns a unique rank to each row with gaps for duplicate values.\n",
    "- `DENSE_RANK()`: Similar to `RANK()`, but without gaps in ranking.\n",
    "- `ROW_NUMBER()`: Assigns a unique sequential number to each row.\n",
    "\n",
    "**Example: Rank Orders by Sales Amount**\n",
    "```sql\n",
    "SELECT OrderID, SalespersonPersonID, TotalSales,\n",
    "       RANK() OVER (PARTITION BY SalespersonPersonID ORDER BY TotalSales DESC) AS Rank\n",
    "FROM Sales.Orders;\n",
    "```\n",
    "\n",
    "##### **2.2 Running Total (Cumulative Sum)**\n",
    "The `SUM()` function can be used with `OVER()` to calculate cumulative totals.\n",
    "\n",
    "**Example: Cumulative Sales Per Salesperson**\n",
    "```sql\n",
    "SELECT OrderID, SalespersonPersonID, TotalSales,\n",
    "       SUM(TotalSales) OVER (PARTITION BY SalespersonPersonID ORDER BY OrderDate) AS CumulativeSales\n",
    "FROM Sales.Orders;\n",
    "```\n",
    "\n",
    "##### **2.3 Moving Averages**\n",
    "A moving average helps smooth trends in sales or performance metrics.\n",
    "\n",
    "**Example: 3-Order Moving Average of Sales**\n",
    "```sql\n",
    "SELECT OrderID, SalespersonPersonID, TotalSales,\n",
    "       AVG(TotalSales) OVER (PARTITION BY SalespersonPersonID ORDER BY OrderDate ROWS BETWEEN 2 PRECEDING AND CURRENT ROW) AS MovingAvg\n",
    "FROM Sales.Orders;\n",
    "```\n",
    "\n",
    "##### **2.4 Lead and Lag Analysis**\n",
    "- `LEAD()`: Accesses the next row’s value.\n",
    "- `LAG()`: Accesses the previous row’s value.\n",
    "\n",
    "**Example: Compare Current and Previous Order Sales**\n",
    "```sql\n",
    "SELECT OrderID, SalespersonPersonID, TotalSales,\n",
    "       LAG(TotalSales, 1, 0) OVER (PARTITION BY SalespersonPersonID ORDER BY OrderDate) AS PreviousOrderSales,\n",
    "       LEAD(TotalSales, 1, 0) OVER (PARTITION BY SalespersonPersonID ORDER BY OrderDate) AS NextOrderSales\n",
    "FROM Sales.Orders;\n",
    "```\n",
    "\n",
    "#### **3. Conclusion**\n",
    "Window functions provide powerful ways to analyze data trends, rank results, and calculate moving metrics without losing row-level details. By mastering these functions, you can perform advanced analytics directly within PostgreSQL."
   ]
  },
  {
   "cell_type": "markdown",
   "metadata": {},
   "source": [
    "### **Business Problem**\n",
    "\n",
    "The finance team wants to analyze order trends over time to identify top-performing salespersons.\n",
    "\n",
    "The analytics team needs to calculate **cumulative order count per salesperson** over time to track their performance and identify trends.\n",
    "\n",
    "#### **Task**  \n",
    "Write a query that returns the data for the analytics team. Your output should include **`SalespersonPersonID`**, **`OrderDate`**, and **`CumulativeOrders`** (running total of orders per salesperson).\n",
    "\n",
    "##### **Hints:**  \n",
    "- Use the **`COUNT(*)`** window function to calculate cumulative orders.\n",
    "- Partition by **`SalespersonPersonID`** to track orders separately for each salesperson.\n",
    "- Order the results by **`OrderDate`** to ensure the cumulative calculation is sequential.\n",
    "\n",
    "---"
   ]
  }
 ],
 "metadata": {
  "kernelspec": {
   "display_name": ".venv",
   "language": "python",
   "name": "python3"
  },
  "language_info": {
   "name": "python",
   "version": "3.12.2"
  }
 },
 "nbformat": 4,
 "nbformat_minor": 2
}
