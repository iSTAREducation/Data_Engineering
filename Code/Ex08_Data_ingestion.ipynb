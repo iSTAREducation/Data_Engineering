{
 "cells": [
  {
   "cell_type": "markdown",
   "metadata": {},
   "source": [
    "### **Tutorial 08: Data Ingestion - A Hands-on Guide**\n"
   ]
  },
  {
   "cell_type": "code",
   "execution_count": null,
   "metadata": {},
   "outputs": [],
   "source": [
    "import pandas as pd\n",
    "import requests\n",
    "import sqlite3"
   ]
  },
  {
   "cell_type": "code",
   "execution_count": null,
   "metadata": {},
   "outputs": [],
   "source": [
    "# 1. Read Data from a CSV File\n",
    "print(\"Reading data from CSV...\")\n",
    "csv_file = \"./data/raw/mmdt.csv\"  \n",
    "try:\n",
    "    df_csv = pd.read_csv(csv_file)\n",
    "    print(\"CSV Data Loaded Successfully!\")\n",
    "    display(df_csv.head())\n",
    "except Exception as e:\n",
    "    print(f\"Error loading CSV: {e}\")"
   ]
  },
  {
   "cell_type": "code",
   "execution_count": null,
   "metadata": {},
   "outputs": [],
   "source": [
    "# 2. Read Data from a JSON File\n",
    "import json\n",
    "print(\"\\nReading data from JSON...\")\n",
    "json_file = \"./data/raw/wip_2025.json\" \n",
    "try:\n",
    "    with open(json_file, \"r\", encoding=\"utf-8\") as file:\n",
    "        data = json.load(file)\n",
    "    df_json = pd.json_normalize(data, record_path=[\"data\", \"regional\"])\n",
    "    print(\"JSON Data Loaded Successfully!\")\n",
    "    display(df_json.head())\n",
    "except Exception as e:\n",
    "    print(f\"Error loading JSON: {e}\")"
   ]
  },
  {
   "cell_type": "code",
   "execution_count": null,
   "metadata": {},
   "outputs": [],
   "source": [
    "#3 Ingesting Data from a Database (e.g., SQLite)\n",
    "print(\"\\nReading data from SQLite database...\")\n",
    "db_path = '../Projects/database/mmdt.db3'\n",
    "try:\n",
    "    query = \"SELECT * FROM participants;\"\n",
    "    df_sqlite = pd.read_sql_query(query, f\"sqlite:///{db_path}\")\n",
    "    display(df_sqlite.head())\n",
    "except Exception as e:\n",
    "    print(f\"Error loading SQLite: {e}\")"
   ]
  },
  {
   "cell_type": "code",
   "execution_count": null,
   "metadata": {},
   "outputs": [],
   "source": [
    "#4 Ingesting Data from a Database (e.g., MySQL)\n",
    "import pyodbc\n",
    "from sqlalchemy import create_engine\n",
    "from dotenv import load_dotenv\n",
    "import os\n",
    "import urllib\n",
    "\n",
    "load_dotenv()  \n",
    "server = os.getenv(\"DB_SERVER\")\n",
    "database = os.getenv(\"DB_NAME\")\n",
    "username = os.getenv(\"DB_USER\")\n",
    "password = os.getenv(\"DB_PASSWORD\") \n",
    "driver = 'ODBC Driver 18 for SQL Server' \n",
    "\n",
    "params = urllib.parse.quote_plus(\n",
    "    f\"DRIVER={{{driver}}};SERVER={server};DATABASE={database};\"\n",
    "    f\"UID={username};PWD={password};ENCRYPT=yes;TrustServerCertificate=yes\"\n",
    ")\n",
    "\n",
    "engine = create_engine(f\"mssql+pyodbc:///?odbc_connect={params}\")\n",
    "try:\n",
    "    query = \"\"\" \n",
    "        SELECT * FROM Sales.Orders;\n",
    "        \"\"\"\n",
    "    df_mysql = pd.read_sql(query, engine)\n",
    "    display(df_mysql.head())\n",
    "except Exception as e:\n",
    "    print(f\"Error loading mySQL: {e}\") "
   ]
  },
  {
   "cell_type": "markdown",
   "metadata": {},
   "source": [
    "#### Get your API key from here: **https://pygis.io/docs/d_access_census.html**\n",
    "- '**C17002_001E**': Total population for poverty status, count of ratio of income to poverty in the past 12 months (total)\n",
    "- '**C17002_002E**': Population below 50% of the poverty level, count of ratio of income to poverty in the past 12 months (< 0.50)\n",
    "- '**C17002_003E**': Population between 50% and 100% of the poverty level, count of ratio of income to poverty in the past 12 months (0.50 - 0.99)\n",
    "- '**B01003_001E**': Total population.\n"
   ]
  },
  {
   "cell_type": "code",
   "execution_count": null,
   "metadata": {},
   "outputs": [],
   "source": [
    "# 5.  Real-time Ingestion using APIs\n",
    "\n",
    "from census import Census\n",
    "from us import states\n",
    "\n",
    "c = Census(os.environ.get('census_api_key'))\n",
    "data_census = c.acs5.state_county_tract(fields = ('NAME', 'C17002_001E', 'C17002_002E', 'C17002_003E', 'B01003_001E'),\n",
    "                                      state_fips = states.MA.fips,\n",
    "                                      county_fips = \"*\",\n",
    "                                      tract = \"*\",\n",
    "                                      year = 2022)\n",
    "try:\n",
    "    df_census = pd.DataFrame(data_census)\n",
    "    display(df_census.head())\n",
    "except Exception as e:\n",
    "    print(f\"Error loading census data: {e}\") "
   ]
  }
 ],
 "metadata": {
  "kernelspec": {
   "display_name": ".venv",
   "language": "python",
   "name": "python3"
  },
  "language_info": {
   "codemirror_mode": {
    "name": "ipython",
    "version": 3
   },
   "file_extension": ".py",
   "mimetype": "text/x-python",
   "name": "python",
   "nbconvert_exporter": "python",
   "pygments_lexer": "ipython3",
   "version": "3.12.2"
  }
 },
 "nbformat": 4,
 "nbformat_minor": 2
}
