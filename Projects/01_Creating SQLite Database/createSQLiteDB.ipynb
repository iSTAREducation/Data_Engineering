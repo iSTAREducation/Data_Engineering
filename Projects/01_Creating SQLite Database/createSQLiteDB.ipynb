{
 "cells": [
  {
   "cell_type": "code",
   "execution_count": 5,
   "metadata": {},
   "outputs": [],
   "source": [
    "from database_helper import DatabaseHelper\n",
    "import os"
   ]
  },
  {
   "cell_type": "code",
   "execution_count": null,
   "metadata": {},
   "outputs": [],
   "source": [
    "# Create the Database\n",
    "db_path=os.makedirs('../database', exist_ok = True)\n",
    "db_helper = DatabaseHelper(f\"{db_path}/mmdt.db3\")\n",
    "\n",
    "# Specify custom CSV files and table names\n",
    "csv_files = {\n",
    "    'participants': './data/mmdt_selected_batch01.csv',\n",
    "    'bhutan': './data/mmdt_bhutan_data.csv',\n",
    "    'status': './data/mmdt_current_batch01.csv',\n",
    "    'attendance': './data/mmdt_phase2_attendance.csv'\n",
    "}\n",
    "\n",
    "# Create the database and insert data from the CSV files\n",
    "db_helper.create_db(csv_file_paths=csv_files)"
   ]
  }
 ],
 "metadata": {
  "kernelspec": {
   "display_name": "Python 3",
   "language": "python",
   "name": "python3"
  },
  "language_info": {
   "codemirror_mode": {
    "name": "ipython",
    "version": 3
   },
   "file_extension": ".py",
   "mimetype": "text/x-python",
   "name": "python",
   "nbconvert_exporter": "python",
   "pygments_lexer": "ipython3",
   "version": "3.12.2"
  }
 },
 "nbformat": 4,
 "nbformat_minor": 2
}
