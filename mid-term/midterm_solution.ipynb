{
 "cells": [
  {
   "cell_type": "code",
   "execution_count": null,
   "metadata": {},
   "outputs": [],
   "source": [
    "import pandas as pd\n",
    "import sqlite3"
   ]
  },
  {
   "cell_type": "code",
   "execution_count": null,
   "metadata": {},
   "outputs": [],
   "source": [
    "### Question 1: Extract (4 marks)\n",
    "\n",
    "def extract(db_path, table_name):\n",
    "    query = f\"SELECT * From {table_name};\"\n",
    "\n",
    "\n",
    "    df = pd.read_sql_query(query, f\"sqlite:///{db_path}\")\n",
    "    \n",
    "    return df\n",
    "\n",
    "# Extract data\n",
    "db_path = \"survey.db3\"\n",
    "df_support = extract(db_path, \"support\")\n",
    "df_survey = extract(db_path, \"survey\")\n",
    "\n",
    "print(f\"Support Table: {df_support.shape[0]} records\")\n",
    "print(f\"Survey Table: {df_survey.shape[0]} records\")"
   ]
  },
  {
   "cell_type": "code",
   "execution_count": null,
   "metadata": {},
   "outputs": [],
   "source": [
    "### Question 2: Transform (5 marks)  \n",
    "\n",
    "def transform(raw_data):\n",
    "    clean_data = raw_data.copy()\n",
    "    clean_data['customer_id'] = clean_data['customer_id'].astype(int)\n",
    "    clean_data['customer_id'] = clean_data['customer_id'].fillna(0)\n",
    "\n",
    "    category_list = ['Feedback', 'Billing Enquiry', 'Bug', 'Installation Problem', 'Other']\n",
    "    clean_data['category'] = clean_data['category'].apply(lambda cat: cat if cat in category_list else 'Other')\n",
    "    clean_data['category'] = clean_data['category'].astype(\"category\")\n",
    "\n",
    "    status_list = ['Open', 'In Progress', 'Resolved']\n",
    "    clean_data['status'] = clean_data['status'].apply(lambda cat: cat if cat in status_list else 'Resolved')\n",
    "    clean_data['status'] = clean_data['status'].astype(\"category\")\n",
    "\n",
    "    clean_data['response_time'] = clean_data['response_time'].astype(int)\n",
    "    clean_data['response_time'] = clean_data['response_time'].fillna(0)\n",
    "\n",
    "    return clean_data\n",
    "\n",
    "df_cleaned = transform(df_support)\n",
    "df_cleaned.head()"
   ]
  },
  {
   "cell_type": "code",
   "execution_count": 159,
   "metadata": {},
   "outputs": [
    {
     "data": {
      "text/plain": [
       "np.int64(1)"
      ]
     },
     "execution_count": 159,
     "metadata": {},
     "output_type": "execute_result"
    }
   ],
   "source": [
    "### Question 3: Transform and Load (5 marks)  \n",
    "\n",
    "def aggregate_response_time(df: pd.DataFrame):\n",
    "    df_grouped = df.groupby(\"category\", observed = False)['response_time'].agg(['min', 'max']).reset_index()\n",
    "    df_grouped.columns = ['category', 'min_response', 'max_response']\n",
    "    df_grouped = df_grouped.round(2)\n",
    "    return df_grouped\n",
    "\n",
    "df_aggregated = aggregate_response_time(df_cleaned)\n",
    "df_aggregated['min_response'].iloc[0]"
   ]
  },
  {
   "cell_type": "code",
   "execution_count": null,
   "metadata": {},
   "outputs": [],
   "source": [
    "### Question 4: Load (1 marks)\n",
    "def save_to_csv(df: pd.DataFrame, filename: str = \"respond_time.csv\"):\n",
    "    df.to_csv(filename, index=False)\n",
    "\n",
    "save_to_csv(df_aggregated)\n",
    "print(\"Aggregated response time saved to respond_time.csv\")"
   ]
  }
 ],
 "metadata": {
  "kernelspec": {
   "display_name": ".venv",
   "language": "python",
   "name": "python3"
  },
  "language_info": {
   "codemirror_mode": {
    "name": "ipython",
    "version": 3
   },
   "file_extension": ".py",
   "mimetype": "text/x-python",
   "name": "python",
   "nbconvert_exporter": "python",
   "pygments_lexer": "ipython3",
   "version": "3.12.1"
  }
 },
 "nbformat": 4,
 "nbformat_minor": 2
}
