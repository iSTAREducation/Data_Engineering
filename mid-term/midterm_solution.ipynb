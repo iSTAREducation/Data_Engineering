{
 "cells": [
  {
   "cell_type": "code",
   "execution_count": null,
   "metadata": {},
   "outputs": [],
   "source": [
    "import pandas as pd\n",
    "import sqlite3"
   ]
  },
  {
   "cell_type": "code",
   "execution_count": null,
   "metadata": {},
   "outputs": [],
   "source": [
    "db_path = 'survey.db3'\n",
    "query = \"SELECT * FROM support;\"\n",
    "\n",
    "support_df = pd.read_sql_query(query, f\"sqlite:///{db_path}\")\n",
    "print(support_df.shape[0])\n",
    "\n",
    "query = \"SELECT * FROM survey;\"\n",
    "survey_df = pd.read_sql_query(query, f\"sqlite:///{db_path}\")\n",
    "print(survey_df.shape[0])"
   ]
  },
  {
   "cell_type": "markdown",
   "metadata": {},
   "source": [
    "### Question 2: Transform (5 marks)  \n",
    "\n",
    "#### Data Schema for the `support` Table  \n",
    "\n",
    "| Column Name     | Data Type  | Description  |\n",
    "|----------------|-----------|---------------------------------------------------------|\n",
    "| `id`           | Discrete  | The unique identifier of the support ticket. |\n",
    "| `customer_id`  | Discrete  | The unique identifier of the customer. |\n",
    "| `category`     | Nominal   | The category of the support request, can be one of **Feedback, Billing Enquiry, Bug, Installation Problem, Other**.  |\n",
    "| `status`       | Nominal   | The current status of the support ticket, one of **Open, In Progress, or Resolved**. |\n",
    "| `creation_date` | Discrete  | The date the ticket was created. |\n",
    "| `response_time` | Discrete  | The number of days taken to respond to the support ticket. |\n",
    "| `resolution_time` | Continuous | The number of hours taken to resolve the support ticket, rounded to 2 decimal places.  |\n",
    "\n",
    "- Perform **data cleaning** on the `support` table.  \n",
    "- Make sure that the data type are correct as specified in the above table. \n",
    "- Replace missing values according to the specified criteria in the below table.\n",
    "- You can use the SQLite **COALESCE** function or you can use any Python function.\n",
    "\n",
    "#### **Data Cleaning Requirements**  \n",
    "\n",
    "| Column Name       | Transformation Rule |\n",
    "|------------------|---------------------------------------------------------|\n",
    "| `customer_id`    | Replace missing/incorrect values with **0** if any. |\n",
    "| `category`       | Replace missing/incorect  values with **\"Other\"** if any. |\n",
    "| `status`         | Replace missing/incorrect values with **\"Resolved\"** if any. |\n",
    "| `response_time`  | Replace missing/incorrect values with **0** if any.|\n",
    "---"
   ]
  },
  {
   "cell_type": "code",
   "execution_count": null,
   "metadata": {},
   "outputs": [],
   "source": [
    "cat_list = ['Feedback', 'Billing enquiry', 'Bug', 'Installation Problem', 'Other']\n",
    "support_df['category'] = support_df['category'].fillna('Other')\n",
    "support_df['category'] = support_df['category'].apply(lambda x: x if x in cat_list else 'Other')\n",
    "\n",
    "status_list = ['Open', 'In Progress', 'Resolved']\n",
    "support_df['status'] = support_df['status'].apply(lambda x: x if x in status_list else 'Resolved')\n",
    "\n",
    "support_df['resolution_time'] = support_df['resolution_time'].str.strip().replace(r'(\\d+)\\s+hours', r'\\1', regex=True)\n",
    "\n",
    "support_df['response_time'] = support_df['response_time'].astype(int)\n",
    "support_df['resolution_time'] = support_df['resolution_time'].astype(float)\n",
    "support_df.dtypes"
   ]
  },
  {
   "cell_type": "markdown",
   "metadata": {},
   "source": [
    "### Question 3: Transform (5 marks)\n",
    "\n",
    "- Write an **SQL Query** to calculate the minimum and maximum response time for each category of support ticket. \n",
    "- Fix the missing/incorrect values as described in the above table. \n",
    "- Your output should include the columns `category`, `min_response` and `max_response`. \n",
    "- Values should be rounded to two decimal places where appropriate. \n",
    "- Use the `pd.read_sql()` function to fetch the data and return as a `pandas` DataFrame.\n",
    "---"
   ]
  },
  {
   "cell_type": "code",
   "execution_count": null,
   "metadata": {},
   "outputs": [],
   "source": [
    "db_path = 'survey.db3'\n",
    "query = \"\"\" \n",
    "    SELECT \n",
    "        CASE \n",
    "            WHEN category IS NULL OR category = '-' THEN 'Other' \n",
    "            ELSE category\n",
    "        END AS new_category,\n",
    "        MIN(response_time) AS min_response, \n",
    "        MAX(response_time) AS max_response\n",
    "    FROM support\n",
    "    GROUP BY new_category;\n",
    "    \"\"\"\n",
    "\n",
    "cat_df = pd.read_sql_query(query, f\"sqlite:///{db_path}\")\n",
    "cat_df.columns = ['category', 'min_response', 'max_response']\n",
    "cat_df"
   ]
  },
  {
   "cell_type": "code",
   "execution_count": null,
   "metadata": {},
   "outputs": [],
   "source": [
    "# check from Python\n",
    "response_df = support_df.groupby('category')['response_time'].agg(min='min', max='max').reset_index()\n",
    "response_df.columns = ['category', 'min_response', 'max_response']\n",
    "response_df"
   ]
  },
  {
   "cell_type": "code",
   "execution_count": null,
   "metadata": {},
   "outputs": [],
   "source": [
    "cat_df.to_csv('respond_time.csv', index = False)"
   ]
  }
 ],
 "metadata": {
  "kernelspec": {
   "display_name": ".venv",
   "language": "python",
   "name": "python3"
  },
  "language_info": {
   "codemirror_mode": {
    "name": "ipython",
    "version": 3
   },
   "file_extension": ".py",
   "mimetype": "text/x-python",
   "name": "python",
   "nbconvert_exporter": "python",
   "pygments_lexer": "ipython3",
   "version": "3.12.2"
  }
 },
 "nbformat": 4,
 "nbformat_minor": 2
}
