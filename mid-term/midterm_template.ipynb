{
 "cells": [
  {
   "cell_type": "markdown",
   "metadata": {},
   "source": [
    "### Mid-Term Exam (15 marks)\n",
    "\n",
    "You have been given access to an SQLite database (`survey.db3`) generated from the customer survey data.  The database contains two tables: `support` and `survey`. \n",
    "\n",
    "#### Data Schema for the `support` Table  \n",
    "\n",
    "| Column Name     | Data Type  | Description  |\n",
    "|----------------|-----------|---------------------------------------------------------|\n",
    "| `id`           | Discrete  | The unique identifier of the support ticket. |\n",
    "| `customer_id`  | Discrete  | The unique identifier of the customer. |\n",
    "| `category`     | Nominal   | The category of the support request, can be one of **Feedback, Billing Enquiry, Bug, Installation Problem, Other**.  |\n",
    "| `status`       | Nominal   | The current status of the support ticket, one of **Open, In Progress, or Resolved**. |\n",
    "| `creation_date` | Discrete  | The date the ticket was created. |\n",
    "| `response_time` | Discrete  | The number of days taken to respond to the support ticket. |\n",
    "| `resolution_time` | Continuous | The number of hours taken to resolve the support ticket, rounded to 2 decimal places.  |\n",
    "\n",
    "### Data Schema for the `survey` Table  \n",
    "\n",
    "| Column Name   | Data Type | Description |\n",
    "|--------------|----------|-------------|\n",
    "| `id`         | Integer  | Unique identifier for each survey entry. |\n",
    "| `customer_id` | Integer  | Unique identifier for the customer who completed the survey. |\n",
    "| `rating`     | Integer  | Rating given by the customer (e.g., scale from 1-5). |\n",
    "| `timestamp`  | String (Datetime) | The date and time when the survey was submitted. |\n",
    "---"
   ]
  },
  {
   "cell_type": "code",
   "execution_count": null,
   "metadata": {},
   "outputs": [],
   "source": [
    "import pandas as pd\n",
    "import sqlite3"
   ]
  },
  {
   "cell_type": "markdown",
   "metadata": {},
   "source": [
    "### Question 1: Extract (4 marks)\n",
    "\n",
    "- Complete `extract` function to retrieve all records from a specified table and return a `pandas` DataFrame.  \n",
    "  - Use the `pd.read_sql()` function to fetch the data.  \n",
    "  - Ensure the function returns a `pandas` DataFrame.  \n",
    "- Extract data from both the **`support`** and **`survey`** tables.   \n",
    "- Print the total number of records in both the **`support`** and **`survey`** tables.  \n",
    "---"
   ]
  },
  {
   "cell_type": "code",
   "execution_count": null,
   "metadata": {},
   "outputs": [],
   "source": [
    "### Question 1: Extract (4 marks)\n",
    "\n",
    "def extract(db_path, table_name):\n",
    "    # TODO:\n",
    "\n",
    "    pass\n",
    "    \n",
    "    \n",
    "\n",
    "# **DO NOT MODIFY THE BELOW CODE**  \n",
    "# Extract data\n",
    "db_path = \"survey.db3\"\n",
    "df_support = extract(db_path, \"support\")\n",
    "df_survey = extract(db_path, \"survey\")\n",
    "\n",
    "print(f\"Support Table: {df_support.shape[0]} records\")\n",
    "print(f\"Survey Table: {df_survey.shape[0]} records\")"
   ]
  },
  {
   "cell_type": "markdown",
   "metadata": {},
   "source": [
    "### Question 2: Transform (5 marks)  \n",
    "\n",
    "- Perform **data cleaning** on the `support` table.  \n",
    "- Make sure that the data type are correct as specified in the above table. \n",
    "- Replace missing values according to the specified criteria in the below table.\n",
    "- You can use the SQLite **COALESCE** function or you can use any Python function.\n",
    "\n",
    "#### **Data Cleaning Requirements**  \n",
    "\n",
    "| Column Name       | Transformation Rule |\n",
    "|------------------|---------------------------------------------------------|\n",
    "| `customer_id`    | Replace missing/incorrect values with **0** if any. |\n",
    "| `category`       | Replace missing/incorect  values with **\"Other\"** if any. |\n",
    "| `status`         | Replace missing/incorrect values with **\"Resolved\"** if any. |\n",
    "| `response_time`  | Replace missing/incorrect values with **0** if any.|\n",
    "---"
   ]
  },
  {
   "cell_type": "code",
   "execution_count": null,
   "metadata": {},
   "outputs": [],
   "source": [
    "### Question 2: Transform (5 marks)  \n",
    "\n",
    "def transform(raw_data):\n",
    "    # TODO:\n",
    "\n",
    "    pass\n",
    "\n",
    "# **DO NOT MODIFY THE BELOW CODE**  \n",
    "df_cleaned = transform(df_support)\n",
    "df_cleaned.head()"
   ]
  },
  {
   "cell_type": "markdown",
   "metadata": {},
   "source": [
    "### Question 3: Transform (5 marks)\n",
    "\n",
    "- Calculate the minimum and maximum response time for each category of support ticket. \n",
    "- Fix the missing/incorrect values as described in Question 2. \n",
    "- Your output should include the columns `category`, `min_response` and `max_response`. \n",
    "- Values should be rounded to two decimal places where appropriate. \n",
    "---"
   ]
  },
  {
   "cell_type": "code",
   "execution_count": null,
   "metadata": {},
   "outputs": [],
   "source": [
    "### Question 3: Transform and Load (6 marks)  \n",
    "\n",
    "def aggregate_response_time(df: pd.DataFrame):\n",
    "    # TODO:\n",
    "\n",
    "    pass\n",
    "\n",
    "# **DO NOT MODIFY THE BELOW CODE**  \n",
    "df_aggregated = aggregate_response_time(df_cleaned)\n",
    "df_aggregated.head()"
   ]
  },
  {
   "cell_type": "markdown",
   "metadata": {},
   "source": [
    "### Question 4: Load (1 marks)\n",
    "\n",
    "- Save the data from Question 3 into a CSV file named `respond_time.csv`.\n",
    "---"
   ]
  },
  {
   "cell_type": "code",
   "execution_count": null,
   "metadata": {},
   "outputs": [],
   "source": [
    "### Question 4: Load (1 marks)\n",
    "\n",
    "def save_to_csv(df: pd.DataFrame, filename: str = \"respond_time.csv\"):\n",
    "    # TODO:\n",
    "\n",
    "    pass\n",
    "\n",
    "# **DO NOT MODIFY THE BELOW CODE**  \n",
    "save_to_csv(df_aggregated)\n",
    "print(\"Aggregated response time saved to respond_time.csv\")"
   ]
  }
 ],
 "metadata": {
  "kernelspec": {
   "display_name": ".venv",
   "language": "python",
   "name": "python3"
  },
  "language_info": {
   "codemirror_mode": {
    "name": "ipython",
    "version": 3
   },
   "file_extension": ".py",
   "mimetype": "text/x-python",
   "name": "python",
   "nbconvert_exporter": "python",
   "pygments_lexer": "ipython3",
   "version": "3.12.1"
  }
 },
 "nbformat": 4,
 "nbformat_minor": 2
}
