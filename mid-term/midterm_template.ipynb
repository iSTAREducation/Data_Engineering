{
 "cells": [
  {
   "cell_type": "markdown",
   "metadata": {},
   "source": [
    "### Mid-Term Exam (15 marks)\n",
    "\n",
    "You have been given access to an SQLite database (`survey.db3`) generated from the customer survey data.  The database contains two tables: `support` and `survey`. \n",
    "\n",
    "#### Data Schema for the `support` Table  \n",
    "\n",
    "| Column Name     | Data Type  | Description  |\n",
    "|----------------|-----------|---------------------------------------------------------|\n",
    "| `id`           | Discrete  | The unique identifier of the support ticket. |\n",
    "| `customer_id`  | Discrete  | The unique identifier of the customer. |\n",
    "| `category`     | Nominal   | The category of the support request, can be one of **Feedback, Billing Enquiry, Bug, Installation Problem, Other**.  |\n",
    "| `status`       | Nominal   | The current status of the support ticket, one of **Open, In Progress, or Resolved**. |\n",
    "| `creation_date` | Discrete  | The date the ticket was created. |\n",
    "| `response_time` | Discrete  | The number of days taken to respond to the support ticket. |\n",
    "| `resolution_time` | Continuous | The number of hours taken to resolve the support ticket, rounded to 2 decimal places.  |\n",
    "\n",
    "### Data Schema for the `survey` Table  \n",
    "\n",
    "| Column Name   | Data Type | Description |\n",
    "|--------------|----------|-------------|\n",
    "| `id`         | Integer  | Unique identifier for each survey entry. |\n",
    "| `customer_id` | Integer  | Unique identifier for the customer who completed the survey. |\n",
    "| `rating`     | Integer  | Rating given by the customer (e.g., scale from 1-5). |\n",
    "| `timestamp`  | String (Datetime) | The date and time when the survey was submitted. |\n",
    "---"
   ]
  },
  {
   "cell_type": "code",
   "execution_count": 1,
   "metadata": {},
   "outputs": [],
   "source": [
    "import pandas as pd\n",
    "import sqlite3"
   ]
  }
 ],
 "metadata": {
  "kernelspec": {
   "display_name": ".venv",
   "language": "python",
   "name": "python3"
  },
  "language_info": {
   "codemirror_mode": {
    "name": "ipython",
    "version": 3
   },
   "file_extension": ".py",
   "mimetype": "text/x-python",
   "name": "python",
   "nbconvert_exporter": "python",
   "pygments_lexer": "ipython3",
   "version": "3.12.1"
  }
 },
 "nbformat": 4,
 "nbformat_minor": 2
}
